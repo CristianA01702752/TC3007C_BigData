{
  "nbformat": 4,
  "nbformat_minor": 0,
  "metadata": {
    "colab": {
      "provenance": []
    },
    "kernelspec": {
      "name": "python3",
      "display_name": "Python 3"
    },
    "language_info": {
      "name": "python"
    }
  },
  "cells": [
    {
      "cell_type": "markdown",
      "source": [
        "#A01702752 Cristian Espinosa Díaz"
      ],
      "metadata": {
        "id": "B_bkBfN0VOvK"
      }
    },
    {
      "cell_type": "markdown",
      "source": [
        "# Módulo 1 Utilización, procesamiento y visualización de grandes volúmenes de datos (Portafolio Análisis)"
      ],
      "metadata": {
        "id": "Kxc2vI00VPTn"
      }
    },
    {
      "cell_type": "markdown",
      "source": [
        "Instalamos pyspark y java"
      ],
      "metadata": {
        "id": "DZLIKarqVlp8"
      }
    },
    {
      "cell_type": "code",
      "execution_count": null,
      "metadata": {
        "colab": {
          "base_uri": "https://localhost:8080/",
          "height": 366
        },
        "id": "e3o4mXWDsJ7d",
        "outputId": "3b8f8bb4-a9a2-44c0-c35a-6a03b7f28093"
      },
      "outputs": [
        {
          "output_type": "stream",
          "name": "stdout",
          "text": [
            "\u001b[33m\r0% [Working]\u001b[0m\r            \rHit:1 http://security.ubuntu.com/ubuntu jammy-security InRelease\n",
            "\u001b[33m\r0% [Connecting to archive.ubuntu.com (185.125.190.39)] [Connected to cloud.r-pr\u001b[0m\r                                                                               \rHit:2 https://cloud.r-project.org/bin/linux/ubuntu jammy-cran40/ InRelease\n",
            "\u001b[33m\r0% [Connecting to archive.ubuntu.com (185.125.190.39)] [Connecting to ppa.launc\u001b[0m\r                                                                               \rHit:3 https://developer.download.nvidia.com/compute/cuda/repos/ubuntu2204/x86_64  InRelease\n",
            "Hit:4 http://archive.ubuntu.com/ubuntu jammy InRelease\n",
            "Get:5 http://archive.ubuntu.com/ubuntu jammy-updates InRelease [119 kB]\n",
            "Hit:6 https://ppa.launchpadcontent.net/c2d4u.team/c2d4u4.0+/ubuntu jammy InRelease\n",
            "Hit:7 http://archive.ubuntu.com/ubuntu jammy-backports InRelease\n",
            "Hit:8 https://ppa.launchpadcontent.net/deadsnakes/ppa/ubuntu jammy InRelease\n",
            "Hit:9 https://ppa.launchpadcontent.net/graphics-drivers/ppa/ubuntu jammy InRelease\n",
            "Hit:10 https://ppa.launchpadcontent.net/ubuntugis/ppa/ubuntu jammy InRelease\n",
            "Fetched 119 kB in 2s (68.7 kB/s)\n",
            "Reading package lists... Done\n",
            "Building dependency tree... Done\n",
            "Reading state information... Done\n",
            "20 packages can be upgraded. Run 'apt list --upgradable' to see them.\n",
            "Requirement already satisfied: pyspark in /usr/local/lib/python3.10/dist-packages (3.5.0)\n",
            "Requirement already satisfied: py4j==0.10.9.7 in /usr/local/lib/python3.10/dist-packages (from pyspark) (0.10.9.7)\n"
          ]
        },
        {
          "output_type": "execute_result",
          "data": {
            "text/plain": [
              "'/content/spark-3.4.1-bin-hadoop3'"
            ],
            "application/vnd.google.colaboratory.intrinsic+json": {
              "type": "string"
            }
          },
          "metadata": {},
          "execution_count": 88
        }
      ],
      "source": [
        "#Bibliotecas para poder trabajar con Spark\n",
        "!sudo apt update\n",
        "!apt-get install openjdk-8-jdk-headless -qq > /dev/null\n",
        "!wget -q https://downloads.apache.org/spark/spark-3.4.1//spark-3.4.1-bin-hadoop3.tgz\n",
        "!tar xf spark-3.4.1-bin-hadoop3.tgz\n",
        "#Configuración de Spark con Python\n",
        "!pip install -q findspark\n",
        "!pip install pyspark\n",
        "\n",
        "#Estableciendo variable de entorno\n",
        "import os\n",
        "os.environ[\"JAVA_HOME\"] = \"/usr/lib/jvm/java-8-openjdk-amd64\"\n",
        "os.environ[\"SPARK_HOME\"] = \"/content/spark-3.4.1-bin-hadoop3\"\n",
        "\n",
        "#Buscando e inicializando la instalación de Spark\n",
        "import findspark\n",
        "findspark.init()\n",
        "findspark.find()"
      ]
    },
    {
      "cell_type": "markdown",
      "source": [
        "# Importamos nuestro dataset"
      ],
      "metadata": {
        "id": "mSJaYQglVs_g"
      }
    },
    {
      "cell_type": "markdown",
      "source": [
        "El dataset escogido fue extraído de [Chicago Data Portal](https://data.cityofchicago.org/Transportation/Traffic-Crashes-Crashes/85ca-t3if).\n",
        "Este dataset proporciona información sobre datos de accidentes de tráfico en las calles de la ciudad dentro de los límites de la Ciudad de Chicago y bajo la jurisdicción del Departamento de Policía de Chicago (CPD).\n",
        "\n",
        "Estos datos provienen del sistema de informes electrónicos de accidentes (E-Crash) del CPD y se presentan tal como están, sin incluir información personal identificable. Los registros se añaden al portal de datos cuando se finaliza un informe de accidente o cuando se realizan modificaciones en un informe existente en E-Crash.\n",
        "\n",
        "Los datos de E-Crash están disponibles para algunos distritos policiales a partir de 2015, pero los datos de toda la ciudad no están disponibles hasta septiembre de 2017.\n",
        "\n",
        "El objetivo que tendrá el modelo será predecir si un accidente tendrá o no una persona lastimada."
      ],
      "metadata": {
        "id": "3w_1TD2OVzTV"
      }
    },
    {
      "cell_type": "code",
      "source": [
        "from google.colab import drive\n",
        "\n",
        "drive.mount(\"/content/gdrive\")\n",
        "!pwd\n",
        "#put your own path in google drive\n",
        "%cd \"/content/gdrive/MyDrive/Colab Notebooks/Archivos\"\n",
        "!ls"
      ],
      "metadata": {
        "id": "puQfLP7WrFeW",
        "colab": {
          "base_uri": "https://localhost:8080/"
        },
        "outputId": "44190421-2a2a-4ca6-a3ff-16ef14cc5642"
      },
      "execution_count": null,
      "outputs": [
        {
          "output_type": "stream",
          "name": "stdout",
          "text": [
            "Drive already mounted at /content/gdrive; to attempt to forcibly remount, call drive.mount(\"/content/gdrive\", force_remount=True).\n",
            "/content/gdrive/My Drive/Colab Notebooks/Archivos\n",
            "/content/gdrive/MyDrive/Colab Notebooks/Archivos\n",
            " CNN_Model.png\t\t      part2.csv\t\t\t     'Summary of Weather.csv'\n",
            " Dataset\t\t      part4.csv\t\t\t      titanic.csv\n",
            " FastFoodNutritionMenu.csv    Raisin_Dataset.xlsx\t      Traffic_Crashes_Chicago.csv\n",
            " FastFoodNutritionMenu.xlsx   spark-3.4.1-bin-hadoop3\t      UserCarDataExample.csv\n",
            " Food_Inspections.csv\t      spark-3.4.1-bin-hadoop3.tgz     Vegetables\n",
            " iris.data\t\t      spark-3.4.1-bin-hadoop3.tgz.1   wine.data\n",
            " model.h5\t\t      spark-3.4.1-bin-hadoop3.tgz.2  'winequality-red (1).csv'\n"
          ]
        }
      ]
    },
    {
      "cell_type": "markdown",
      "source": [
        "# Instalamos las librerías necesarias para la ejecución del modelo y la preparación de los datos que realizaremos a continuación. A su vez creamos la sesión de Spark y el dataframe inicial."
      ],
      "metadata": {
        "id": "D2O29kBbWqQT"
      }
    },
    {
      "cell_type": "code",
      "source": [
        "from pyspark.sql import SparkSession\n",
        "from pyspark.sql import Row\n",
        "from pyspark.ml.feature import StringIndexer\n",
        "from pyspark.ml.classification import LogisticRegression\n",
        "from pyspark.ml.regression import LinearRegression\n",
        "from pyspark.ml.evaluation import BinaryClassificationEvaluator\n",
        "from pyspark.ml.feature import VectorAssembler\n",
        "from pyspark.sql.functions import when, col\n",
        "from pyspark.ml.evaluation import MulticlassClassificationEvaluator\n",
        "from pyspark.sql.functions import col, expr\n",
        "from pyspark.sql import functions as F\n",
        "\n",
        "# Inicializa una sesión de Spark\n",
        "spark = SparkSession.builder.appName(\"EjemploCSV\").getOrCreate()\n",
        "\n",
        "# Reemplaza 'nombre_del_archivo.csv' con la ruta al archivo CSV\n",
        "nombre_archivo_csv = 'Traffic_Crashes_Chicago.csv'\n",
        "\n",
        "# Lee el archivo CSV y crea un DataFrame\n",
        "data = spark.read.csv(nombre_archivo_csv, header=True, inferSchema=True)"
      ],
      "metadata": {
        "id": "CPlG50mLsZad"
      },
      "execution_count": null,
      "outputs": []
    },
    {
      "cell_type": "markdown",
      "source": [
        "**Imprimimos el esquema para verificar que el datset fue importado con éxito y para determinar que atributos serán relevantes para la predicción.**"
      ],
      "metadata": {
        "id": "2UeF3l36X9_j"
      }
    },
    {
      "cell_type": "code",
      "source": [
        "data.printSchema()"
      ],
      "metadata": {
        "id": "XweRYTZdsfrj",
        "colab": {
          "base_uri": "https://localhost:8080/"
        },
        "outputId": "bcf08342-2861-41e8-829c-8c16e89cd0da"
      },
      "execution_count": null,
      "outputs": [
        {
          "output_type": "stream",
          "name": "stdout",
          "text": [
            "root\n",
            " |-- CRASH_RECORD_ID: string (nullable = true)\n",
            " |-- RD_NO: string (nullable = true)\n",
            " |-- CRASH_DATE_EST_I: string (nullable = true)\n",
            " |-- CRASH_DATE: string (nullable = true)\n",
            " |-- POSTED_SPEED_LIMIT: integer (nullable = true)\n",
            " |-- TRAFFIC_CONTROL_DEVICE: string (nullable = true)\n",
            " |-- DEVICE_CONDITION: string (nullable = true)\n",
            " |-- WEATHER_CONDITION: string (nullable = true)\n",
            " |-- LIGHTING_CONDITION: string (nullable = true)\n",
            " |-- FIRST_CRASH_TYPE: string (nullable = true)\n",
            " |-- TRAFFICWAY_TYPE: string (nullable = true)\n",
            " |-- LANE_CNT: integer (nullable = true)\n",
            " |-- ALIGNMENT: string (nullable = true)\n",
            " |-- ROADWAY_SURFACE_COND: string (nullable = true)\n",
            " |-- ROAD_DEFECT: string (nullable = true)\n",
            " |-- REPORT_TYPE: string (nullable = true)\n",
            " |-- CRASH_TYPE: string (nullable = true)\n",
            " |-- INTERSECTION_RELATED_I: string (nullable = true)\n",
            " |-- NOT_RIGHT_OF_WAY_I: string (nullable = true)\n",
            " |-- HIT_AND_RUN_I: string (nullable = true)\n",
            " |-- DAMAGE: string (nullable = true)\n",
            " |-- DATE_POLICE_NOTIFIED: string (nullable = true)\n",
            " |-- PRIM_CONTRIBUTORY_CAUSE: string (nullable = true)\n",
            " |-- SEC_CONTRIBUTORY_CAUSE: string (nullable = true)\n",
            " |-- STREET_NO: integer (nullable = true)\n",
            " |-- STREET_DIRECTION: string (nullable = true)\n",
            " |-- STREET_NAME: string (nullable = true)\n",
            " |-- BEAT_OF_OCCURRENCE: integer (nullable = true)\n",
            " |-- PHOTOS_TAKEN_I: string (nullable = true)\n",
            " |-- STATEMENTS_TAKEN_I: string (nullable = true)\n",
            " |-- DOORING_I: string (nullable = true)\n",
            " |-- WORK_ZONE_I: string (nullable = true)\n",
            " |-- WORK_ZONE_TYPE: string (nullable = true)\n",
            " |-- WORKERS_PRESENT_I: string (nullable = true)\n",
            " |-- NUM_UNITS: integer (nullable = true)\n",
            " |-- MOST_SEVERE_INJURY: string (nullable = true)\n",
            " |-- INJURIES_TOTAL: integer (nullable = true)\n",
            " |-- INJURIES_FATAL: integer (nullable = true)\n",
            " |-- INJURIES_INCAPACITATING: integer (nullable = true)\n",
            " |-- INJURIES_NON_INCAPACITATING: integer (nullable = true)\n",
            " |-- INJURIES_REPORTED_NOT_EVIDENT: integer (nullable = true)\n",
            " |-- INJURIES_NO_INDICATION: integer (nullable = true)\n",
            " |-- INJURIES_UNKNOWN: integer (nullable = true)\n",
            " |-- CRASH_HOUR: integer (nullable = true)\n",
            " |-- CRASH_DAY_OF_WEEK: integer (nullable = true)\n",
            " |-- CRASH_MONTH: integer (nullable = true)\n",
            " |-- LATITUDE: double (nullable = true)\n",
            " |-- LONGITUDE: double (nullable = true)\n",
            " |-- LOCATION: string (nullable = true)\n",
            "\n"
          ]
        }
      ]
    },
    {
      "cell_type": "markdown",
      "source": [
        "Algunas columnas como 'RD_NO' serán eliminadas debido a que la institución al anonimizar los datos por razones de privacidad dejó estas columnas vacías por lo que no tendrán mucha información que aportar al modelo.\n",
        "\n",
        "Posteriormente, se eliminarán columnas como 'CRASH_RECORD_ID' debido a que la información que contienen estas columnas no es relevante para el objetivo del modelo.\n",
        "\n",
        "Solo mantendremos 8 columnas, las cuales son:\n",
        "* TRAFFIC_CONTROL_DEVICE\n",
        "* WEATHER_CONDITION\n",
        "* LIGHTING_CONDITION\n",
        "* FIRST_CRASH_TYPE\n",
        "* TRAFFICWAY_TYPE\n",
        "* ROADWAY_SURFACE_COND\n",
        "* ROAD_DEFECT\n",
        "* INJURIES_TOTAL"
      ],
      "metadata": {
        "id": "O-CQTPvkYSmI"
      }
    },
    {
      "cell_type": "markdown",
      "source": [
        "Esta decisión fue tomada por medio de realizar diversas gráficas y observar el comportamiento de las primeras 7 columnas, de la lista que se mencionó anteriormente, con la columna dependiente \"INJURIES_TOTAL\".\n",
        "\n",
        "Otro aspecto que se tomó en consideración fue que muchos aspectos poseen correlación de manera lógica. Ej: que el clima puede influir en el aumento de accidentes y por consecuencia, el aumento de posibles heridos."
      ],
      "metadata": {
        "id": "-zJBu_QcUUY3"
      }
    },
    {
      "cell_type": "markdown",
      "source": [
        "![Captura de pantalla (218).png](data:image/png;base64,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)"
      ],
      "metadata": {
        "id": "maWMD3TQT0m5"
      }
    },
    {
      "cell_type": "code",
      "source": [
        "# List of columns to keep\n",
        "columns_to_keep = [\n",
        "    \"TRAFFIC_CONTROL_DEVICE\",\n",
        "    \"WEATHER_CONDITION\",\n",
        "    \"LIGHTING_CONDITION\",\n",
        "    \"FIRST_CRASH_TYPE\",\n",
        "    \"TRAFFICWAY_TYPE\",\n",
        "    \"ROADWAY_SURFACE_COND\",\n",
        "    \"ROAD_DEFECT\",\n",
        "    \"INJURIES_TOTAL\"\n",
        "]\n",
        "\n",
        "selected_data = data.select(*columns_to_keep)\n",
        "selected_data.show()"
      ],
      "metadata": {
        "id": "4MWVIdA2srhE",
        "colab": {
          "base_uri": "https://localhost:8080/"
        },
        "outputId": "9e38f918-eb45-462a-904b-dd714350c7e2"
      },
      "execution_count": null,
      "outputs": [
        {
          "output_type": "stream",
          "name": "stdout",
          "text": [
            "+----------------------+-----------------+--------------------+--------------------+--------------------+--------------------+-----------+--------------+\n",
            "|TRAFFIC_CONTROL_DEVICE|WEATHER_CONDITION|  LIGHTING_CONDITION|    FIRST_CRASH_TYPE|     TRAFFICWAY_TYPE|ROADWAY_SURFACE_COND|ROAD_DEFECT|INJURIES_TOTAL|\n",
            "+----------------------+-----------------+--------------------+--------------------+--------------------+--------------------+-----------+--------------+\n",
            "|                 OTHER|            CLEAR|            DAYLIGHT|            REAR END|               OTHER|                 DRY| NO DEFECTS|             1|\n",
            "|        TRAFFIC SIGNAL|            CLEAR|            DAYLIGHT|PARKED MOTOR VEHICLE|DIVIDED - W/MEDIA...|                 DRY| NO DEFECTS|             0|\n",
            "|           NO CONTROLS|            CLEAR|            DAYLIGHT|        PEDALCYCLIST|         NOT DIVIDED|                 DRY| NO DEFECTS|             1|\n",
            "|           NO CONTROLS|            CLEAR|            DAYLIGHT|          PEDESTRIAN|             ONE-WAY|                 DRY| NO DEFECTS|             1|\n",
            "|           NO CONTROLS|            CLEAR|            DAYLIGHT|        FIXED OBJECT|               OTHER|                 DRY| NO DEFECTS|             0|\n",
            "|        TRAFFIC SIGNAL|            CLEAR|            DAYLIGHT|             TURNING|         NOT DIVIDED|             UNKNOWN|    UNKNOWN|             0|\n",
            "|           NO CONTROLS|            CLEAR|DARKNESS, LIGHTED...|            REAR END|             ONE-WAY|                 DRY| NO DEFECTS|             0|\n",
            "|           NO CONTROLS|            CLEAR|            DAYLIGHT|               ANGLE|               OTHER|                 DRY| NO DEFECTS|             0|\n",
            "|        TRAFFIC SIGNAL|            CLEAR|DARKNESS, LIGHTED...|             TURNING|            FOUR WAY|                 DRY| NO DEFECTS|             0|\n",
            "|           NO CONTROLS|            CLEAR|            DARKNESS|            REAR END|             ONE-WAY|                 DRY| NO DEFECTS|             0|\n",
            "|           NO CONTROLS|             SNOW|DARKNESS, LIGHTED...|               ANGLE|         PARKING LOT|       SNOW OR SLUSH| NO DEFECTS|             0|\n",
            "|           NO CONTROLS|            CLEAR|            DAYLIGHT|SIDESWIPE SAME DI...|         PARKING LOT|                 DRY| NO DEFECTS|             0|\n",
            "|           NO CONTROLS|            CLEAR|            DAYLIGHT|SIDESWIPE SAME DI...|               OTHER|                 DRY| NO DEFECTS|             0|\n",
            "|           NO CONTROLS|          UNKNOWN|             UNKNOWN|               ANGLE|         PARKING LOT|             UNKNOWN|    UNKNOWN|             0|\n",
            "|        TRAFFIC SIGNAL|            CLEAR|            DARKNESS|SIDESWIPE OPPOSIT...|         NOT DIVIDED|             UNKNOWN|    UNKNOWN|             0|\n",
            "|           NO CONTROLS|            CLEAR|            DAYLIGHT|            REAR END|             ONE-WAY|                 DRY| NO DEFECTS|             0|\n",
            "|           NO CONTROLS|            CLEAR|            DAYLIGHT|SIDESWIPE OPPOSIT...|             ONE-WAY|                 DRY| NO DEFECTS|             0|\n",
            "|     STOP SIGN/FLASHER|            CLEAR|DARKNESS, LIGHTED...|             TURNING|         PARKING LOT|                 DRY| NO DEFECTS|             0|\n",
            "|           NO CONTROLS|             RAIN|            DAYLIGHT|        FIXED OBJECT|DIVIDED - W/MEDIA...|                 WET| NO DEFECTS|             0|\n",
            "|        TRAFFIC SIGNAL|            CLEAR|            DAYLIGHT|            REAR END|      T-INTERSECTION|                 DRY| NO DEFECTS|             0|\n",
            "+----------------------+-----------------+--------------------+--------------------+--------------------+--------------------+-----------+--------------+\n",
            "only showing top 20 rows\n",
            "\n"
          ]
        }
      ]
    },
    {
      "cell_type": "markdown",
      "source": [
        "Nos aseguramos de eliminar las filas con información faltante por medio de la función 'drop.na()'"
      ],
      "metadata": {
        "id": "fpvtDnrVZmGV"
      }
    },
    {
      "cell_type": "code",
      "source": [
        "selected_data = selected_data.dropna()"
      ],
      "metadata": {
        "id": "N9ys026EHgwy"
      },
      "execution_count": null,
      "outputs": []
    },
    {
      "cell_type": "markdown",
      "source": [
        "Convertimos las variables categóricas en númericas por medio de la función 'StringIndexer'. A su vez, convertimos la columna de 'INJURIES_TOTAL' de entero a booleana."
      ],
      "metadata": {
        "id": "DXfGuinXZxpC"
      }
    },
    {
      "cell_type": "code",
      "source": [
        "# List of columns to be indexed\n",
        "columns_to_index = [\n",
        "    \"TRAFFIC_CONTROL_DEVICE\",\n",
        "    \"WEATHER_CONDITION\",\n",
        "    \"LIGHTING_CONDITION\",\n",
        "    \"FIRST_CRASH_TYPE\",\n",
        "    \"TRAFFICWAY_TYPE\",\n",
        "    \"ROADWAY_SURFACE_COND\",\n",
        "    \"ROAD_DEFECT\",\n",
        "]\n",
        "\n",
        "# Create a list of StringIndexers\n",
        "indexers = [\n",
        "    StringIndexer(inputCol=col, outputCol=f\"{col}_LABELED\", handleInvalid=\"skip\")\n",
        "    for col in columns_to_index\n",
        "]\n",
        "\n",
        "# Apply the transformations\n",
        "indexed_df = selected_data\n",
        "\n",
        "for indexer in indexers:\n",
        "    indexed_df = indexer.fit(indexed_df).transform(indexed_df)\n"
      ],
      "metadata": {
        "id": "UVgzpF0Gu9z4"
      },
      "execution_count": null,
      "outputs": []
    },
    {
      "cell_type": "code",
      "source": [
        "# Use withColumn to create a boolean column based on the condition\n",
        "indexed_df = indexed_df.withColumn(\"INJURIES_TOTAL_LABELED\", F.when(indexed_df[\"INJURIES_TOTAL\"] == 0, 0).otherwise(1))"
      ],
      "metadata": {
        "id": "3VymsPQggJse"
      },
      "execution_count": null,
      "outputs": []
    },
    {
      "cell_type": "markdown",
      "source": [
        "Imprimimos el esquema nuevamente para verificar que nuestras columnas con los datos en formato numérico se crearon con éxito, estas columnas poseen la terminación '_LABELED'."
      ],
      "metadata": {
        "id": "WpTgdF4dZ_NE"
      }
    },
    {
      "cell_type": "code",
      "source": [
        "indexed_df.printSchema()"
      ],
      "metadata": {
        "id": "MqZgEREfwkw2",
        "colab": {
          "base_uri": "https://localhost:8080/"
        },
        "outputId": "b1d0c428-42e2-4090-d2d8-7487b6b2bb20"
      },
      "execution_count": null,
      "outputs": [
        {
          "output_type": "stream",
          "name": "stdout",
          "text": [
            "root\n",
            " |-- TRAFFIC_CONTROL_DEVICE: string (nullable = true)\n",
            " |-- WEATHER_CONDITION: string (nullable = true)\n",
            " |-- LIGHTING_CONDITION: string (nullable = true)\n",
            " |-- FIRST_CRASH_TYPE: string (nullable = true)\n",
            " |-- TRAFFICWAY_TYPE: string (nullable = true)\n",
            " |-- ROADWAY_SURFACE_COND: string (nullable = true)\n",
            " |-- ROAD_DEFECT: string (nullable = true)\n",
            " |-- INJURIES_TOTAL: integer (nullable = true)\n",
            " |-- TRAFFIC_CONTROL_DEVICE_LABELED: double (nullable = false)\n",
            " |-- WEATHER_CONDITION_LABELED: double (nullable = false)\n",
            " |-- LIGHTING_CONDITION_LABELED: double (nullable = false)\n",
            " |-- FIRST_CRASH_TYPE_LABELED: double (nullable = false)\n",
            " |-- TRAFFICWAY_TYPE_LABELED: double (nullable = false)\n",
            " |-- ROADWAY_SURFACE_COND_LABELED: double (nullable = false)\n",
            " |-- ROAD_DEFECT_LABELED: double (nullable = false)\n",
            " |-- INJURIES_TOTAL_LABELED: integer (nullable = false)\n",
            "\n"
          ]
        }
      ]
    },
    {
      "cell_type": "markdown",
      "source": [
        "Ingresamos todas las variables independientes en un vector usando 'VectorAssembler', posteriormente se integran al dataframe utilizando un 'transform'."
      ],
      "metadata": {
        "id": "QU3BBgdKaWXA"
      }
    },
    {
      "cell_type": "code",
      "source": [
        "# Assuming you have feature columns named \"feature1,\" \"feature2,\" etc.\n",
        "feature_columns = [\"TRAFFIC_CONTROL_DEVICE_LABELED\", \"WEATHER_CONDITION_LABELED\", \"LIGHTING_CONDITION_LABELED\", \"FIRST_CRASH_TYPE_LABELED\", \"TRAFFICWAY_TYPE_LABELED\", \"ROADWAY_SURFACE_COND_LABELED\", \"ROAD_DEFECT_LABELED\"]\n",
        "assembler = VectorAssembler(inputCols=feature_columns, outputCol=\"Independent Features\")\n",
        "result = assembler.transform(indexed_df)"
      ],
      "metadata": {
        "id": "2l7LLa9P5dFT"
      },
      "execution_count": null,
      "outputs": []
    },
    {
      "cell_type": "markdown",
      "source": [
        "Construimos nuestro modelo de regresión mediante la selección de la columna donde integramos los valores de las variables independientes y la columna que representa la variable dependiente."
      ],
      "metadata": {
        "id": "q4h_KR4wa7Mp"
      }
    },
    {
      "cell_type": "code",
      "source": [
        "final_data = result.select(\"Independent features\", \"INJURIES_TOTAL_LABELED\")\n",
        "final_data.show()"
      ],
      "metadata": {
        "id": "_5WGnt476HN7",
        "colab": {
          "base_uri": "https://localhost:8080/"
        },
        "outputId": "8efea1eb-e5c7-4357-d9dc-7f6f4a3cdb89"
      },
      "execution_count": null,
      "outputs": [
        {
          "output_type": "stream",
          "name": "stdout",
          "text": [
            "+--------------------+----------------------+\n",
            "|Independent features|INJURIES_TOTAL_LABELED|\n",
            "+--------------------+----------------------+\n",
            "|(7,[0,3,4],[4.0,1...|                     1|\n",
            "| (7,[0,4],[1.0,1.0])|                     0|\n",
            "|       (7,[3],[7.0])|                     1|\n",
            "| (7,[3,4],[6.0,2.0])|                     1|\n",
            "| (7,[3,4],[5.0,6.0])|                     0|\n",
            "|[1.0,0.0,0.0,3.0,...|                     0|\n",
            "|(7,[2,3,4],[1.0,1...|                     0|\n",
            "| (7,[3,4],[4.0,6.0])|                     0|\n",
            "|[1.0,0.0,1.0,3.0,...|                     0|\n",
            "|(7,[2,3,4],[2.0,1...|                     0|\n",
            "|[0.0,3.0,1.0,4.0,...|                     0|\n",
            "| (7,[3,4],[2.0,3.0])|                     0|\n",
            "| (7,[3,4],[2.0,6.0])|                     0|\n",
            "|[0.0,2.0,3.0,4.0,...|                     0|\n",
            "|[1.0,0.0,2.0,8.0,...|                     0|\n",
            "| (7,[3,4],[1.0,2.0])|                     0|\n",
            "| (7,[3,4],[8.0,2.0])|                     0|\n",
            "|[2.0,0.0,1.0,3.0,...|                     0|\n",
            "|[0.0,1.0,0.0,5.0,...|                     0|\n",
            "|(7,[0,3,4],[1.0,1...|                     0|\n",
            "+--------------------+----------------------+\n",
            "only showing top 20 rows\n",
            "\n"
          ]
        }
      ]
    },
    {
      "cell_type": "markdown",
      "source": [
        "Del conjunto total de datos realizamos una división entre entrenamiento y prueba con la función 'randomSplit'."
      ],
      "metadata": {
        "id": "WE3TA_3abxib"
      }
    },
    {
      "cell_type": "code",
      "source": [
        "train_data, test_data = final_data.randomSplit([0.7, 0.3], seed=123)"
      ],
      "metadata": {
        "id": "cJHhW9FA6eoC"
      },
      "execution_count": null,
      "outputs": []
    },
    {
      "cell_type": "markdown",
      "source": [
        "Creamos el modelo de regresión logística, en este caso será booleana para predecir si un accidente tandrá heridos o no."
      ],
      "metadata": {
        "id": "eJaWxd1dcCPL"
      }
    },
    {
      "cell_type": "code",
      "source": [
        "# Create a logistic regression model\n",
        "model = LogisticRegression(labelCol=\"INJURIES_TOTAL_LABELED\", featuresCol=\"Independent features\", maxIter=100, regParam=0.01)\n"
      ],
      "metadata": {
        "id": "ZDqVwkUV6hWQ"
      },
      "execution_count": null,
      "outputs": []
    },
    {
      "cell_type": "code",
      "source": [
        "model = model.fit(train_data)"
      ],
      "metadata": {
        "id": "KyGVIB2i6il2"
      },
      "execution_count": null,
      "outputs": []
    },
    {
      "cell_type": "markdown",
      "source": [
        "Realizamos las predicciones y usamos a 'MulticlassClassificationEvaluator' para evaluar nuestro modelo por medio de las métricas de 'Accuracy' y 'F1 Score'."
      ],
      "metadata": {
        "id": "9NW0XCZMhSr1"
      }
    },
    {
      "cell_type": "code",
      "source": [
        "predictions = model.transform(test_data)"
      ],
      "metadata": {
        "id": "NE3oOdT66kZ3"
      },
      "execution_count": null,
      "outputs": []
    },
    {
      "cell_type": "code",
      "source": [
        "# Create a MulticlassClassificationEvaluator\n",
        "evaluator = MulticlassClassificationEvaluator(labelCol=\"INJURIES_TOTAL_LABELED\", predictionCol=\"prediction\", metricName=\"accuracy\")\n",
        "evaluator2 = MulticlassClassificationEvaluator(labelCol=\"INJURIES_TOTAL_LABELED\", predictionCol=\"prediction\", metricName=\"f1\")\n",
        "\n",
        "accuracy = evaluator.evaluate(predictions)\n",
        "f1_score = evaluator2.evaluate(predictions)\n",
        "\n",
        "print(\"Accuracy:\", accuracy)\n",
        "print(\"F1 Score:\", f1_score)"
      ],
      "metadata": {
        "id": "HfxnXQYP6ns_",
        "colab": {
          "base_uri": "https://localhost:8080/"
        },
        "outputId": "90fa5141-5fbf-4968-81d8-7a29d95284e5"
      },
      "execution_count": null,
      "outputs": [
        {
          "output_type": "stream",
          "name": "stdout",
          "text": [
            "Accuracy: 0.8608367478973474\n",
            "F1 Score: 0.8010057371672922\n"
          ]
        }
      ]
    },
    {
      "cell_type": "markdown",
      "source": [
        "Accuracy (Precisión):\n",
        "\n",
        "* El valor de precisión es 0.8608, lo que significa que el modelo de regresión logística es capaz de predecir correctamente el resultado en aproximadamente el 86.08% de los casos.\n",
        "\n",
        "* Un alto valor de precisión sugiere que el modelo es efectivo en la clasificación de los datos y en la toma de decisiones correctas.\n",
        "\n",
        "F1 Score:\n",
        "\n",
        "* El valor del puntaje F1 es 0.8010, lo que indica un buen equilibrio entre la precisión y la exhaustividad (recall) del modelo.\n",
        "\n",
        "* El puntaje F1 es una métrica que combina tanto la precisión como la exhaustividad en una sola métrica. Proporciona una medida de la precisión del modelo teniendo en cuenta tanto los falsos positivos como los falsos negativos.\n",
        "\n",
        "* Un valor de F1 Score de 0.8010 sugiere que el modelo es capaz de lograr un equilibrio entre minimizar tanto los falsos positivos como los falsos negativos, lo que es deseable en muchas aplicaciones.\n",
        "\n",
        "En resumen, estos resultados indican que el modelo de regresión logística tiene un buen rendimiento en términos de precisión y un equilibrio razonable entre precisión y exhaustividad, lo que sugiere que es un modelo sólido para la predicción de si un accidente tendrá lesionados con base a las variables independientes."
      ],
      "metadata": {
        "id": "I_eTYK12h2TI"
      }
    },
    {
      "cell_type": "markdown",
      "source": [
        "Realizamos predicciones para observar el funcionamiento del modelo obtenido.\n",
        "\n",
        "Las columnas rawPrediction y probability son componentes esenciales de un modelo de regresión logística y se utilizan para evaluar la confianza del modelo en sus predicciones y para obtener las probabilidades de pertenencia a una clase en una tarea de clasificación binaria."
      ],
      "metadata": {
        "id": "a1iicGcai17X"
      }
    },
    {
      "cell_type": "code",
      "source": [
        "prediction_result = model.evaluate(test_data)\n",
        "prediction_result.predictions.show()"
      ],
      "metadata": {
        "colab": {
          "base_uri": "https://localhost:8080/"
        },
        "id": "Ni7lLp-4cMtY",
        "outputId": "42b2e364-46f4-48f0-e81a-088eade6d5d6"
      },
      "execution_count": null,
      "outputs": [
        {
          "output_type": "stream",
          "name": "stdout",
          "text": [
            "+--------------------+----------------------+--------------------+--------------------+----------+\n",
            "|Independent features|INJURIES_TOTAL_LABELED|       rawPrediction|         probability|prediction|\n",
            "+--------------------+----------------------+--------------------+--------------------+----------+\n",
            "|           (7,[],[])|                     0|[2.40560599419750...|[0.91725379088488...|       0.0|\n",
            "|           (7,[],[])|                     0|[2.40560599419750...|[0.91725379088488...|       0.0|\n",
            "|           (7,[],[])|                     0|[2.40560599419750...|[0.91725379088488...|       0.0|\n",
            "|           (7,[],[])|                     0|[2.40560599419750...|[0.91725379088488...|       0.0|\n",
            "|           (7,[],[])|                     0|[2.40560599419750...|[0.91725379088488...|       0.0|\n",
            "|           (7,[],[])|                     0|[2.40560599419750...|[0.91725379088488...|       0.0|\n",
            "|           (7,[],[])|                     0|[2.40560599419750...|[0.91725379088488...|       0.0|\n",
            "|           (7,[],[])|                     0|[2.40560599419750...|[0.91725379088488...|       0.0|\n",
            "|           (7,[],[])|                     0|[2.40560599419750...|[0.91725379088488...|       0.0|\n",
            "|           (7,[],[])|                     0|[2.40560599419750...|[0.91725379088488...|       0.0|\n",
            "|           (7,[],[])|                     0|[2.40560599419750...|[0.91725379088488...|       0.0|\n",
            "|           (7,[],[])|                     0|[2.40560599419750...|[0.91725379088488...|       0.0|\n",
            "|           (7,[],[])|                     0|[2.40560599419750...|[0.91725379088488...|       0.0|\n",
            "|           (7,[],[])|                     0|[2.40560599419750...|[0.91725379088488...|       0.0|\n",
            "|           (7,[],[])|                     0|[2.40560599419750...|[0.91725379088488...|       0.0|\n",
            "|           (7,[],[])|                     0|[2.40560599419750...|[0.91725379088488...|       0.0|\n",
            "|           (7,[],[])|                     0|[2.40560599419750...|[0.91725379088488...|       0.0|\n",
            "|           (7,[],[])|                     0|[2.40560599419750...|[0.91725379088488...|       0.0|\n",
            "|           (7,[],[])|                     0|[2.40560599419750...|[0.91725379088488...|       0.0|\n",
            "|           (7,[],[])|                     0|[2.40560599419750...|[0.91725379088488...|       0.0|\n",
            "+--------------------+----------------------+--------------------+--------------------+----------+\n",
            "only showing top 20 rows\n",
            "\n"
          ]
        }
      ]
    },
    {
      "cell_type": "code",
      "source": [
        "# Guardamos nuestro modelo para cargarlo después, en caso de ser necesario\n",
        "model.save(\"TrafficInjuries_ClassificationModel.dt\")"
      ],
      "metadata": {
        "id": "3PCBiW9C_bMw"
      },
      "execution_count": null,
      "outputs": []
    },
    {
      "cell_type": "code",
      "source": [
        "#spark.stop()"
      ],
      "metadata": {
        "id": "q9GbA7nK9XRN"
      },
      "execution_count": null,
      "outputs": []
    }
  ]
}